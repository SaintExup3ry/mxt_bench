{
 "cells": [
  {
   "cell_type": "markdown",
   "id": "e7509a33-3d91-48b4-9dbd-b87fba683388",
   "metadata": {
    "tags": []
   },
   "source": [
    "## Load_Env & Set_Size"
   ]
  },
  {
   "cell_type": "code",
   "execution_count": 1,
   "id": "c66305af-1cd4-4f49-8322-78dc9e3d0e9c",
   "metadata": {
    "tags": []
   },
   "outputs": [
    {
     "name": "stderr",
     "output_type": "stream",
     "text": [
      "WARNING:root:The use of `check_types` is deprecated and does not have any effect.\n",
      "WARNING:root:The use of `check_types` is deprecated and does not have any effect.\n"
     ]
    },
    {
     "name": "stdout",
     "output_type": "stream",
     "text": [
      "[-0.7361131  3.8408964  0.25     ]\n"
     ]
    },
    {
     "name": "stderr",
     "output_type": "stream",
     "text": [
      "WARNING:root:The use of `check_types` is deprecated and does not have any effect.\n",
      "WARNING:root:The use of `check_types` is deprecated and does not have any effect.\n"
     ]
    },
    {
     "name": "stdout",
     "output_type": "stream",
     "text": [
      "[-0.7361131  3.8408964  0.25     ]\n"
     ]
    },
    {
     "name": "stderr",
     "output_type": "stream",
     "text": [
      "WARNING:root:The use of `check_types` is deprecated and does not have any effect.\n",
      "WARNING:root:The use of `check_types` is deprecated and does not have any effect.\n"
     ]
    },
    {
     "name": "stdout",
     "output_type": "stream",
     "text": [
      "[-0.7361131  3.8408964  0.25     ]\n",
      "local_state_size: 20\n",
      "observation_size: 200\n",
      "num_limb: 10\n",
      "action_size: 8\n",
      "state_qp_shape: 11\n",
      "<class 'procedural_envs.misc.env_wrapper.GoalEvalWrapper'>\n"
     ]
    }
   ],
   "source": [
    "import os\n",
    "os.environ[\"XLA_PYTHON_CLIENT_PREALLOCATE\"]=\"false\"\n",
    "\n",
    "from procedural_envs import composer\n",
    "from procedural_envs.misc.observers import GraphObserver, EXTRA_ROOT_NODE_DICT\n",
    "from procedural_envs.tasks.observation_config import obs_config_dict\n",
    "\n",
    "env_0 = 'ant_touch_4'\n",
    "obs_config_0 = 'amorpheus'\n",
    "obs_config = obs_config_dict[obs_config_0]\n",
    "\n",
    "if ('handsup2' in env_0) and ('ant' in env_0):\n",
    "    obs_config['extra_root_node'] = EXTRA_ROOT_NODE_DICT['ant_handsup2']\n",
    "elif ('handsup2' in env_0) and ('centipede' in env_0):\n",
    "    obs_config['extra_root_node'] = EXTRA_ROOT_NODE_DICT['centipede_handsup2']\n",
    "elif ('handsup' in env_0) and ('unimal' in env_0):\n",
    "    obs_config['extra_root_node'] = EXTRA_ROOT_NODE_DICT['unimal_handsup']\n",
    "elif 'handsup' in env_0:\n",
    "    obs_config['extra_root_node'] = EXTRA_ROOT_NODE_DICT['handsup']\n",
    "\n",
    "observer = GraphObserver(name=obs_config_0, **obs_config)\n",
    "env_fn = composer.create_fn(env_0, observer=observer, observer2=observer)\n",
    "env = env_fn()\n",
    "local_state_size = env.observation_size // env.num_node\n",
    "observation_size = env.observation_size\n",
    "num_limb = observation_size // local_state_size\n",
    "action_size = env.action_size\n",
    "state_qp_shape = num_limb + 1\n",
    "# if is_claw:\n",
    "#   state_qp_shape = num_limb + 1 - int(action_size / 4)  # int(action_size / 4) == num_legs\n",
    "print(\"local_state_size:\", local_state_size)\n",
    "print(\"observation_size:\", observation_size)\n",
    "print(\"num_limb:\", num_limb)\n",
    "print(\"action_size:\", action_size)\n",
    "print(\"state_qp_shape:\",state_qp_shape)\n",
    "print(type(env))"
   ]
  },
  {
   "cell_type": "markdown",
   "id": "ce8d9652-ac52-48fb-8965-66fdf8698a2e",
   "metadata": {
    "tags": []
   },
   "source": [
    "## Get_Significant_Info"
   ]
  },
  {
   "cell_type": "code",
   "execution_count": 2,
   "id": "594a9f1b-6301-4ea0-bd27-c045c2f782f7",
   "metadata": {
    "tags": []
   },
   "outputs": [
    {
     "name": "stderr",
     "output_type": "stream",
     "text": [
      "WARNING:root:The use of `check_types` is deprecated and does not have any effect.\n",
      "WARNING:root:The use of `check_types` is deprecated and does not have any effect.\n"
     ]
    },
    {
     "name": "stdout",
     "output_type": "stream",
     "text": [
      "[-0.7361131  3.8408964  0.25     ]\n"
     ]
    },
    {
     "data": {
      "text/plain": [
       "200"
      ]
     },
     "execution_count": 2,
     "metadata": {},
     "output_type": "execute_result"
    }
   ],
   "source": [
    "from brax import jumpy as jp\n",
    "\n",
    "cus_state = env.reset(rng=jp.random_prngkey(seed=0))\n",
    "cus_obs = env._get_obs(cus_state.qp, cus_state.info)\n",
    "\n",
    "len(cus_obs[0]['amorpheus'])"
   ]
  },
  {
   "cell_type": "code",
   "execution_count": 3,
   "id": "21218952-599f-4852-a260-2be7a00022d9",
   "metadata": {
    "tags": []
   },
   "outputs": [
    {
     "name": "stdout",
     "output_type": "stream",
     "text": [
      "child_dict:  {'agent1___Aux 1_0': (0, 'agent1___torso_Aux 1_0', 'agent1___torso'), 'agent1___$ Body 4_0': (1, 'agent1___Aux 1_$ Body 4_0', 'agent1___Aux 1_0'), 'agent1___Aux 1_1': (2, 'agent1___torso_Aux 1_1', 'agent1___torso'), 'agent1___$ Body 4_1': (3, 'agent1___Aux 1_$ Body 4_1', 'agent1___Aux 1_1'), 'agent1___Aux 1_2': (4, 'agent1___torso_Aux 1_2', 'agent1___torso'), 'agent1___$ Body 4_2': (5, 'agent1___Aux 1_$ Body 4_2', 'agent1___Aux 1_2'), 'agent1___Aux 1_3': (6, 'agent1___torso_Aux 1_3', 'agent1___torso'), 'agent1___$ Body 4_3': (7, 'agent1___Aux 1_$ Body 4_3', 'agent1___Aux 1_3')}\n"
     ]
    }
   ],
   "source": [
    "child_dict = {j.child: (i, j.name, j.parent) for i, j in enumerate(env.sys.config.joints)}\n",
    "actuator_dict = {a.joint: (i, a.name, a.strength) for i, a in enumerate(env.sys.config.actuators)}\n",
    "\n",
    "print(\"child_dict: \", child_dict)"
   ]
  },
  {
   "cell_type": "code",
   "execution_count": 4,
   "id": "2dbcc785-b129-4e85-9977-7debc7f2b710",
   "metadata": {
    "tags": []
   },
   "outputs": [
    {
     "name": "stdout",
     "output_type": "stream",
     "text": [
      "env.observer.type:  <class 'procedural_envs.misc.observers.GraphObserver'>\n",
      "{'agent1___torso': 0, 'agent1___Aux 1_0': 1, 'agent1___$ Body 4_0': 2, 'agent1___Aux 1_1': 3, 'agent1___$ Body 4_1': 4, 'agent1___Aux 1_2': 5, 'agent1___$ Body 4_2': 6, 'agent1___Aux 1_3': 7, 'agent1___$ Body 4_3': 8, 'cap1___Ball': 9, 'Ground': 10}\n"
     ]
    }
   ],
   "source": [
    "%load_ext autoreload\n",
    "%autoreload 2\n",
    "\n",
    "from procedural_envs.misc import observers\n",
    "\n",
    "obs_dict = observers.get_obs_dict(\n",
    "        env.sys, cus_state.qp, cus_state.info, env.observer, {}, env.metadata.components['agent1'])\n",
    "env.observer._get_obs(env.sys, cus_state.qp, cus_state.info, {}, env.metadata.components['agent1'])\n",
    "print(\"env.observer.type: \", type(env.observer))\n",
    "print(env.sys.body.index)"
   ]
  },
  {
   "cell_type": "code",
   "execution_count": 5,
   "id": "06562961-0057-4a11-8add-026fb7169581",
   "metadata": {
    "tags": []
   },
   "outputs": [
    {
     "name": "stderr",
     "output_type": "stream",
     "text": [
      "WARNING:root:The use of `check_types` is deprecated and does not have any effect.\n",
      "WARNING:root:The use of `check_types` is deprecated and does not have any effect.\n"
     ]
    },
    {
     "name": "stdout",
     "output_type": "stream",
     "text": [
      "[-0.7361131  3.8408964  0.25     ]\n"
     ]
    },
    {
     "data": {
      "text/plain": [
       "200"
      ]
     },
     "execution_count": 5,
     "metadata": {},
     "output_type": "execute_result"
    }
   ],
   "source": [
    "env.observation_size"
   ]
  },
  {
   "cell_type": "code",
   "execution_count": 6,
   "id": "ebe5749d-b427-447f-9e63-d7a71169536b",
   "metadata": {
    "tags": []
   },
   "outputs": [
    {
     "data": {
      "text/plain": [
       "{'bodies': [{'name': 'torso',\n",
       "   'colliders': [{'capsule': {'radius': 0.25, 'length': 0.5, 'end': 1}}],\n",
       "   'inertia': {'x': 1.0, 'y': 1.0, 'z': 1.0},\n",
       "   'mass': 10.0},\n",
       "  {'name': 'Aux 1_0',\n",
       "   'colliders': [{'rotation': {'x': 90.0, 'y': -90.0},\n",
       "     'capsule': {'radius': 0.08, 'length': 0.44284272}}],\n",
       "   'inertia': {'x': 1.0, 'y': 1.0, 'z': 1.0},\n",
       "   'mass': 1.0},\n",
       "  {'name': '$ Body 4_0',\n",
       "   'colliders': [{'rotation': {'x': 90.0, 'y': -90.0},\n",
       "     'capsule': {'radius': 0.08, 'length': 0.7256854, 'end': -1}}],\n",
       "   'inertia': {'x': 1.0, 'y': 1.0, 'z': 1.0},\n",
       "   'mass': 1.0},\n",
       "  {'name': 'Aux 1_1',\n",
       "   'colliders': [{'rotation': {'x': 90.0, 'y': -90.0},\n",
       "     'capsule': {'radius': 0.08, 'length': 0.44284272}}],\n",
       "   'inertia': {'x': 1.0, 'y': 1.0, 'z': 1.0},\n",
       "   'mass': 1.0},\n",
       "  {'name': '$ Body 4_1',\n",
       "   'colliders': [{'rotation': {'x': 90.0, 'y': -90.0},\n",
       "     'capsule': {'radius': 0.08, 'length': 0.7256854, 'end': -1}}],\n",
       "   'inertia': {'x': 1.0, 'y': 1.0, 'z': 1.0},\n",
       "   'mass': 1.0},\n",
       "  {'name': 'Aux 1_2',\n",
       "   'colliders': [{'rotation': {'x': 90.0, 'y': -90.0},\n",
       "     'capsule': {'radius': 0.08, 'length': 0.44284272}}],\n",
       "   'inertia': {'x': 1.0, 'y': 1.0, 'z': 1.0},\n",
       "   'mass': 1.0},\n",
       "  {'name': '$ Body 4_2',\n",
       "   'colliders': [{'rotation': {'x': 90.0, 'y': -90.0},\n",
       "     'capsule': {'radius': 0.08, 'length': 0.7256854, 'end': -1}}],\n",
       "   'inertia': {'x': 1.0, 'y': 1.0, 'z': 1.0},\n",
       "   'mass': 1.0},\n",
       "  {'name': 'Aux 1_3',\n",
       "   'colliders': [{'rotation': {'x': 90.0, 'y': -90.0},\n",
       "     'capsule': {'radius': 0.08, 'length': 0.44284272}}],\n",
       "   'inertia': {'x': 1.0, 'y': 1.0, 'z': 1.0},\n",
       "   'mass': 1.0},\n",
       "  {'name': '$ Body 4_3',\n",
       "   'colliders': [{'rotation': {'x': 90.0, 'y': -90.0},\n",
       "     'capsule': {'radius': 0.08, 'length': 0.7256854, 'end': -1}}],\n",
       "   'inertia': {'x': 1.0, 'y': 1.0, 'z': 1.0},\n",
       "   'mass': 1.0}],\n",
       " 'joints': [{'name': 'torso_Aux 1_0',\n",
       "   'stiffness': 5000.0,\n",
       "   'parent': 'torso',\n",
       "   'child': 'Aux 1_0',\n",
       "   'parentOffset': {'x': 0.30142137},\n",
       "   'childOffset': {},\n",
       "   'rotation': {'y': -90.0},\n",
       "   'angularDamping': 35.0,\n",
       "   'angleLimit': [{'min': -30.0, 'max': 30.0}],\n",
       "   'referenceRotation': {}},\n",
       "  {'name': 'Aux 1_$ Body 4_0',\n",
       "   'stiffness': 5000.0,\n",
       "   'parent': 'Aux 1_0',\n",
       "   'child': '$ Body 4_0',\n",
       "   'parentOffset': {'x': 0.14142136},\n",
       "   'childOffset': {'x': -0.2828427},\n",
       "   'rotation': {'z': 90.0},\n",
       "   'angularDamping': 35.0,\n",
       "   'angleLimit': [{'min': 30.0, 'max': 70.0}]},\n",
       "  {'name': 'torso_Aux 1_1',\n",
       "   'stiffness': 5000.0,\n",
       "   'parent': 'torso',\n",
       "   'child': 'Aux 1_1',\n",
       "   'parentOffset': {'x': 1.8456735e-17, 'y': 0.30142137},\n",
       "   'childOffset': {},\n",
       "   'rotation': {'y': -90.0},\n",
       "   'angularDamping': 35.0,\n",
       "   'angleLimit': [{'min': -30.0, 'max': 30.0}],\n",
       "   'referenceRotation': {'z': 90.0}},\n",
       "  {'name': 'Aux 1_$ Body 4_1',\n",
       "   'stiffness': 5000.0,\n",
       "   'parent': 'Aux 1_1',\n",
       "   'child': '$ Body 4_1',\n",
       "   'parentOffset': {'x': 0.14142136},\n",
       "   'childOffset': {'x': -0.2828427},\n",
       "   'rotation': {'z': 90.0},\n",
       "   'angularDamping': 35.0,\n",
       "   'angleLimit': [{'min': 30.0, 'max': 70.0}]},\n",
       "  {'name': 'torso_Aux 1_2',\n",
       "   'stiffness': 5000.0,\n",
       "   'parent': 'torso',\n",
       "   'child': 'Aux 1_2',\n",
       "   'parentOffset': {'x': -0.30142137, 'y': 3.691347e-17},\n",
       "   'childOffset': {},\n",
       "   'rotation': {'y': -90.0},\n",
       "   'angularDamping': 35.0,\n",
       "   'angleLimit': [{'min': -30.0, 'max': 30.0}],\n",
       "   'referenceRotation': {'z': 180.0}},\n",
       "  {'name': 'Aux 1_$ Body 4_2',\n",
       "   'stiffness': 5000.0,\n",
       "   'parent': 'Aux 1_2',\n",
       "   'child': '$ Body 4_2',\n",
       "   'parentOffset': {'x': 0.14142136},\n",
       "   'childOffset': {'x': -0.2828427},\n",
       "   'rotation': {'z': 90.0},\n",
       "   'angularDamping': 35.0,\n",
       "   'angleLimit': [{'min': 30.0, 'max': 70.0}]},\n",
       "  {'name': 'torso_Aux 1_3',\n",
       "   'stiffness': 5000.0,\n",
       "   'parent': 'torso',\n",
       "   'child': 'Aux 1_3',\n",
       "   'parentOffset': {'x': -5.5370206e-17, 'y': -0.30142137},\n",
       "   'childOffset': {},\n",
       "   'rotation': {'y': -90.0},\n",
       "   'angularDamping': 35.0,\n",
       "   'angleLimit': [{'min': -30.0, 'max': 30.0}],\n",
       "   'referenceRotation': {'z': 270.0}},\n",
       "  {'name': 'Aux 1_$ Body 4_3',\n",
       "   'stiffness': 5000.0,\n",
       "   'parent': 'Aux 1_3',\n",
       "   'child': '$ Body 4_3',\n",
       "   'parentOffset': {'x': 0.14142136},\n",
       "   'childOffset': {'x': -0.2828427},\n",
       "   'rotation': {'z': 90.0},\n",
       "   'angularDamping': 35.0,\n",
       "   'angleLimit': [{'min': 30.0, 'max': 70.0}]}],\n",
       " 'actuators': [{'name': 'torso_Aux 1_0',\n",
       "   'joint': 'torso_Aux 1_0',\n",
       "   'strength': 350.0,\n",
       "   'torque': {}},\n",
       "  {'name': 'Aux 1_$ Body 4_0',\n",
       "   'joint': 'Aux 1_$ Body 4_0',\n",
       "   'strength': 350.0,\n",
       "   'torque': {}},\n",
       "  {'name': 'torso_Aux 1_1',\n",
       "   'joint': 'torso_Aux 1_1',\n",
       "   'strength': 350.0,\n",
       "   'torque': {}},\n",
       "  {'name': 'Aux 1_$ Body 4_1',\n",
       "   'joint': 'Aux 1_$ Body 4_1',\n",
       "   'strength': 350.0,\n",
       "   'torque': {}},\n",
       "  {'name': 'torso_Aux 1_2',\n",
       "   'joint': 'torso_Aux 1_2',\n",
       "   'strength': 350.0,\n",
       "   'torque': {}},\n",
       "  {'name': 'Aux 1_$ Body 4_2',\n",
       "   'joint': 'Aux 1_$ Body 4_2',\n",
       "   'strength': 350.0,\n",
       "   'torque': {}},\n",
       "  {'name': 'torso_Aux 1_3',\n",
       "   'joint': 'torso_Aux 1_3',\n",
       "   'strength': 350.0,\n",
       "   'torque': {}},\n",
       "  {'name': 'Aux 1_$ Body 4_3',\n",
       "   'joint': 'Aux 1_$ Body 4_3',\n",
       "   'strength': 350.0,\n",
       "   'torque': {}}]}"
      ]
     },
     "execution_count": 6,
     "metadata": {},
     "output_type": "execute_result"
    }
   ],
   "source": [
    "from procedural_envs.misc import component_editor\n",
    "from procedural_envs.components import *\n",
    "from procedural_envs import composer\n",
    "import importlib\n",
    "import json\n",
    "\n",
    "\n",
    "\n",
    "new_v = {}\n",
    "new_v['json'] = component_editor.message_str2json(ant.get_specs(4)['message_str'])\n",
    "\n",
    "new_v['json']\n",
    "# print(\"num_bodies: \", len(new_v['json']['bodies']))\n",
    "# print(\"num_joints: \", len(new_v['json']['joints']))"
   ]
  },
  {
   "cell_type": "markdown",
   "id": "7ee432dc-4250-4c5f-8584-c0580039dbb2",
   "metadata": {},
   "source": [
    "## Load_qp && Save_Nodes"
   ]
  },
  {
   "cell_type": "code",
   "execution_count": 7,
   "id": "a33593be-b1a4-4d05-9da0-31b3950f3196",
   "metadata": {
    "tags": []
   },
   "outputs": [
    {
     "data": {
      "text/plain": [
       "(1, 97900, 143)"
      ]
     },
     "execution_count": 7,
     "metadata": {},
     "output_type": "execute_result"
    }
   ],
   "source": [
    "import pickle\n",
    "saved_qp = \"../data/ant_touch_4_qp.pkl\"\n",
    "with open(saved_qp, 'rb') as f:\n",
    "    saved_qp = pickle.load(f)\n",
    "saved_qp.shape"
   ]
  },
  {
   "cell_type": "code",
   "execution_count": 8,
   "id": "e791c727-5d55-4052-abbf-5f44d49a9ae6",
   "metadata": {
    "tags": []
   },
   "outputs": [],
   "source": [
    "import brax\n",
    "from brax.io import image\n",
    "from IPython.display import Image\n",
    "def get_obs2(s_qp, env):\n",
    "    s_info = env.sys.info(s_qp)\n",
    "    obs_dict, _ = env._get_obs2(s_qp, s_info)\n",
    "    obs = data_utils.concat_array(obs_dict, env.observer_shapes2)\n",
    "    return obs\n",
    "\n",
    "def qp_convert(s_qp, state_qp_shape):\n",
    "    return brax.QP(\n",
    "      pos=s_qp[:, 0:state_qp_shape * 3].reshape(-1, state_qp_shape, 3),\n",
    "      rot=s_qp[:, state_qp_shape * 3:state_qp_shape * 7].reshape(-1, state_qp_shape, 4),\n",
    "      vel=s_qp[:, state_qp_shape * 7:state_qp_shape * 10].reshape(-1, state_qp_shape, 3),\n",
    "      ang=s_qp[:, state_qp_shape * 10:state_qp_shape * 13].reshape(-1, state_qp_shape, 3))\n",
    "\n",
    "def qp_squeeze(s_qp):\n",
    "    return brax.QP(\n",
    "      pos=s_qp.pos[0],\n",
    "      rot=s_qp.rot[0],\n",
    "      vel=s_qp.vel[0],\n",
    "      ang=s_qp.ang[0])\n",
    "\n",
    "converted_qp = [qp_squeeze(qp_convert(saved_qp[0, t:t+1], state_qp_shape)) for t in range(0, 500)]"
   ]
  },
  {
   "cell_type": "code",
   "execution_count": 20,
   "id": "7b52dcf5-9576-4627-a398-9b5fc32c31b7",
   "metadata": {
    "tags": []
   },
   "outputs": [
    {
     "data": {
      "text/plain": [
       "array([ 0.0000000e+00,  0.0000000e+00,  5.1334018e-01,  3.0142137e-01,\n",
       "        0.0000000e+00,  5.1334018e-01,  6.2465054e-01,  0.0000000e+00,\n",
       "        2.9667008e-01,  1.8456735e-17,  3.0142137e-01,  5.1334018e-01,\n",
       "        1.8456735e-17,  6.2465054e-01,  2.9667008e-01, -3.0142137e-01,\n",
       "        3.6913471e-17,  5.1334018e-01, -6.2465054e-01,  7.6497630e-17,\n",
       "        2.9667008e-01, -5.5370206e-17, -3.0142137e-01,  5.1334018e-01,\n",
       "       -5.5370206e-17, -6.2465054e-01,  2.9667008e-01,  4.0840912e+00,\n",
       "       -2.5589771e+00,  2.5000000e-01,  0.0000000e+00,  0.0000000e+00,\n",
       "        0.0000000e+00,  1.0000000e+00,  0.0000000e+00,  0.0000000e+00,\n",
       "        0.0000000e+00,  1.0000000e+00,  0.0000000e+00,  0.0000000e+00,\n",
       "        0.0000000e+00,  9.0630782e-01,  0.0000000e+00,  4.2261824e-01,\n",
       "        0.0000000e+00,  7.0710677e-01,  0.0000000e+00,  0.0000000e+00,\n",
       "        7.0710677e-01,  6.4085639e-01, -2.9883623e-01,  2.9883623e-01,\n",
       "        6.4085639e-01,  6.1232343e-17,  0.0000000e+00,  0.0000000e+00,\n",
       "        1.0000000e+00,  5.5495352e-17, -4.2261824e-01,  2.5877905e-17,\n",
       "        9.0630782e-01, -7.0710677e-01,  0.0000000e+00,  0.0000000e+00,\n",
       "        7.0710677e-01, -6.4085639e-01, -2.9883623e-01, -2.9883623e-01,\n",
       "        6.4085639e-01,  1.0000000e+00,  0.0000000e+00,  0.0000000e+00,\n",
       "        0.0000000e+00,  1.0000000e+00,  0.0000000e+00,  0.0000000e+00,\n",
       "        0.0000000e+00,  0.0000000e+00,  0.0000000e+00,  0.0000000e+00,\n",
       "        0.0000000e+00,  0.0000000e+00,  0.0000000e+00,  0.0000000e+00,\n",
       "        0.0000000e+00,  0.0000000e+00,  0.0000000e+00,  0.0000000e+00,\n",
       "        0.0000000e+00,  0.0000000e+00,  0.0000000e+00,  0.0000000e+00,\n",
       "        0.0000000e+00,  0.0000000e+00,  0.0000000e+00,  0.0000000e+00,\n",
       "        0.0000000e+00,  0.0000000e+00,  0.0000000e+00,  0.0000000e+00,\n",
       "        0.0000000e+00,  0.0000000e+00,  0.0000000e+00,  0.0000000e+00,\n",
       "        0.0000000e+00,  0.0000000e+00,  0.0000000e+00,  0.0000000e+00,\n",
       "        0.0000000e+00,  0.0000000e+00,  0.0000000e+00,  0.0000000e+00,\n",
       "        0.0000000e+00,  0.0000000e+00,  0.0000000e+00,  0.0000000e+00,\n",
       "        0.0000000e+00,  0.0000000e+00,  0.0000000e+00,  0.0000000e+00,\n",
       "        0.0000000e+00,  0.0000000e+00,  0.0000000e+00,  0.0000000e+00,\n",
       "        0.0000000e+00,  0.0000000e+00,  0.0000000e+00,  0.0000000e+00,\n",
       "        0.0000000e+00,  0.0000000e+00,  0.0000000e+00,  0.0000000e+00,\n",
       "        0.0000000e+00,  0.0000000e+00,  0.0000000e+00,  0.0000000e+00,\n",
       "        0.0000000e+00,  0.0000000e+00,  0.0000000e+00,  0.0000000e+00,\n",
       "        0.0000000e+00,  0.0000000e+00,  0.0000000e+00], dtype=float32)"
      ]
     },
     "execution_count": 20,
     "metadata": {},
     "output_type": "execute_result"
    }
   ],
   "source": [
    "saved_qp[0][0]"
   ]
  },
  {
   "cell_type": "markdown",
   "id": "3e307023-4c27-4633-9a34-704c39a33106",
   "metadata": {},
   "source": [
    "## Make_Graph"
   ]
  },
  {
   "cell_type": "code",
   "execution_count": 10,
   "id": "438e7dee-62ea-4dd1-8ca3-0a2296f41d3f",
   "metadata": {
    "tags": []
   },
   "outputs": [],
   "source": [
    "my_obs = env.observer._get_obs(env.sys, converted_qp[23], cus_state.info, {}, env.metadata.components['agent1'])"
   ]
  },
  {
   "cell_type": "code",
   "execution_count": 11,
   "id": "d83b3db1-7bda-4f57-ac52-03afed1f4d87",
   "metadata": {
    "tags": []
   },
   "outputs": [
    {
     "data": {
      "text/plain": [
       "QP(pos=array([[ 0.0000000e+00,  0.0000000e+00,  5.1334018e-01],\n",
       "       [ 3.0142137e-01,  0.0000000e+00,  5.1334018e-01],\n",
       "       [ 6.2465054e-01,  0.0000000e+00,  2.9667008e-01],\n",
       "       [ 1.8456735e-17,  3.0142137e-01,  5.1334018e-01],\n",
       "       [ 1.8456735e-17,  6.2465054e-01,  2.9667008e-01],\n",
       "       [-3.0142137e-01,  3.6913471e-17,  5.1334018e-01],\n",
       "       [-6.2465054e-01,  7.6497630e-17,  2.9667008e-01],\n",
       "       [-5.5370206e-17, -3.0142137e-01,  5.1334018e-01],\n",
       "       [-5.5370206e-17, -6.2465054e-01,  2.9667008e-01],\n",
       "       [ 4.0840912e+00, -2.5589771e+00,  2.5000000e-01],\n",
       "       [ 0.0000000e+00,  0.0000000e+00,  0.0000000e+00]], dtype=float32), rot=array([[ 1.0000000e+00,  0.0000000e+00,  0.0000000e+00,  0.0000000e+00],\n",
       "       [ 1.0000000e+00,  0.0000000e+00,  0.0000000e+00,  0.0000000e+00],\n",
       "       [ 9.0630782e-01,  0.0000000e+00,  4.2261824e-01,  0.0000000e+00],\n",
       "       [ 7.0710677e-01,  0.0000000e+00,  0.0000000e+00,  7.0710677e-01],\n",
       "       [ 6.4085639e-01, -2.9883623e-01,  2.9883623e-01,  6.4085639e-01],\n",
       "       [ 6.1232343e-17,  0.0000000e+00,  0.0000000e+00,  1.0000000e+00],\n",
       "       [ 5.5495352e-17, -4.2261824e-01,  2.5877905e-17,  9.0630782e-01],\n",
       "       [-7.0710677e-01,  0.0000000e+00,  0.0000000e+00,  7.0710677e-01],\n",
       "       [-6.4085639e-01, -2.9883623e-01, -2.9883623e-01,  6.4085639e-01],\n",
       "       [ 1.0000000e+00,  0.0000000e+00,  0.0000000e+00,  0.0000000e+00],\n",
       "       [ 1.0000000e+00,  0.0000000e+00,  0.0000000e+00,  0.0000000e+00]],\n",
       "      dtype=float32), vel=array([[0., 0., 0.],\n",
       "       [0., 0., 0.],\n",
       "       [0., 0., 0.],\n",
       "       [0., 0., 0.],\n",
       "       [0., 0., 0.],\n",
       "       [0., 0., 0.],\n",
       "       [0., 0., 0.],\n",
       "       [0., 0., 0.],\n",
       "       [0., 0., 0.],\n",
       "       [0., 0., 0.],\n",
       "       [0., 0., 0.]], dtype=float32), ang=array([[0., 0., 0.],\n",
       "       [0., 0., 0.],\n",
       "       [0., 0., 0.],\n",
       "       [0., 0., 0.],\n",
       "       [0., 0., 0.],\n",
       "       [0., 0., 0.],\n",
       "       [0., 0., 0.],\n",
       "       [0., 0., 0.],\n",
       "       [0., 0., 0.],\n",
       "       [0., 0., 0.],\n",
       "       [0., 0., 0.]], dtype=float32))"
      ]
     },
     "execution_count": 11,
     "metadata": {},
     "output_type": "execute_result"
    }
   ],
   "source": [
    "converted_qp[0]"
   ]
  },
  {
   "cell_type": "code",
   "execution_count": 22,
   "id": "bb77e8e5-4962-45c7-82da-b7c448a2333b",
   "metadata": {
    "tags": []
   },
   "outputs": [
    {
     "data": {
      "text/plain": [
       "0.0"
      ]
     },
     "execution_count": 22,
     "metadata": {},
     "output_type": "execute_result"
    }
   ],
   "source": [
    "for i in range(300):\n",
    "    cus_state.done"
   ]
  },
  {
   "cell_type": "code",
   "execution_count": 13,
   "id": "fa821c8f-235c-40cc-b55f-7235e8626c4e",
   "metadata": {
    "tags": []
   },
   "outputs": [
    {
     "data": {
      "text/plain": [
       "{'bodies': [{'name': 'torso',\n",
       "   'colliders': [{'capsule': {'radius': 0.25, 'length': 0.5, 'end': 1}}],\n",
       "   'inertia': {'x': 1.0, 'y': 1.0, 'z': 1.0},\n",
       "   'mass': 10.0},\n",
       "  {'name': 'Aux 1_0',\n",
       "   'colliders': [{'rotation': {'x': 90.0, 'y': -90.0},\n",
       "     'capsule': {'radius': 0.08, 'length': 0.44284272}}],\n",
       "   'inertia': {'x': 1.0, 'y': 1.0, 'z': 1.0},\n",
       "   'mass': 1.0},\n",
       "  {'name': '$ Body 4_0',\n",
       "   'colliders': [{'rotation': {'x': 90.0, 'y': -90.0},\n",
       "     'capsule': {'radius': 0.08, 'length': 0.7256854, 'end': -1}}],\n",
       "   'inertia': {'x': 1.0, 'y': 1.0, 'z': 1.0},\n",
       "   'mass': 1.0},\n",
       "  {'name': 'Aux 1_1',\n",
       "   'colliders': [{'rotation': {'x': 90.0, 'y': -90.0},\n",
       "     'capsule': {'radius': 0.08, 'length': 0.44284272}}],\n",
       "   'inertia': {'x': 1.0, 'y': 1.0, 'z': 1.0},\n",
       "   'mass': 1.0},\n",
       "  {'name': '$ Body 4_1',\n",
       "   'colliders': [{'rotation': {'x': 90.0, 'y': -90.0},\n",
       "     'capsule': {'radius': 0.08, 'length': 0.7256854, 'end': -1}}],\n",
       "   'inertia': {'x': 1.0, 'y': 1.0, 'z': 1.0},\n",
       "   'mass': 1.0},\n",
       "  {'name': 'Aux 1_2',\n",
       "   'colliders': [{'rotation': {'x': 90.0, 'y': -90.0},\n",
       "     'capsule': {'radius': 0.08, 'length': 0.44284272}}],\n",
       "   'inertia': {'x': 1.0, 'y': 1.0, 'z': 1.0},\n",
       "   'mass': 1.0},\n",
       "  {'name': '$ Body 4_2',\n",
       "   'colliders': [{'rotation': {'x': 90.0, 'y': -90.0},\n",
       "     'capsule': {'radius': 0.08, 'length': 0.7256854, 'end': -1}}],\n",
       "   'inertia': {'x': 1.0, 'y': 1.0, 'z': 1.0},\n",
       "   'mass': 1.0},\n",
       "  {'name': 'Aux 1_3',\n",
       "   'colliders': [{'rotation': {'x': 90.0, 'y': -90.0},\n",
       "     'capsule': {'radius': 0.08, 'length': 0.44284272}}],\n",
       "   'inertia': {'x': 1.0, 'y': 1.0, 'z': 1.0},\n",
       "   'mass': 1.0},\n",
       "  {'name': '$ Body 4_3',\n",
       "   'colliders': [{'rotation': {'x': 90.0, 'y': -90.0},\n",
       "     'capsule': {'radius': 0.08, 'length': 0.7256854, 'end': -1}}],\n",
       "   'inertia': {'x': 1.0, 'y': 1.0, 'z': 1.0},\n",
       "   'mass': 1.0}],\n",
       " 'joints': [{'name': 'torso_Aux 1_0',\n",
       "   'stiffness': 5000.0,\n",
       "   'parent': 'torso',\n",
       "   'child': 'Aux 1_0',\n",
       "   'parentOffset': {'x': 0.30142137},\n",
       "   'childOffset': {},\n",
       "   'rotation': {'y': -90.0},\n",
       "   'angularDamping': 35.0,\n",
       "   'angleLimit': [{'min': -30.0, 'max': 30.0}],\n",
       "   'referenceRotation': {}},\n",
       "  {'name': 'Aux 1_$ Body 4_0',\n",
       "   'stiffness': 5000.0,\n",
       "   'parent': 'Aux 1_0',\n",
       "   'child': '$ Body 4_0',\n",
       "   'parentOffset': {'x': 0.14142136},\n",
       "   'childOffset': {'x': -0.2828427},\n",
       "   'rotation': {'z': 90.0},\n",
       "   'angularDamping': 35.0,\n",
       "   'angleLimit': [{'min': 30.0, 'max': 70.0}]},\n",
       "  {'name': 'torso_Aux 1_1',\n",
       "   'stiffness': 5000.0,\n",
       "   'parent': 'torso',\n",
       "   'child': 'Aux 1_1',\n",
       "   'parentOffset': {'x': 1.8456735e-17, 'y': 0.30142137},\n",
       "   'childOffset': {},\n",
       "   'rotation': {'y': -90.0},\n",
       "   'angularDamping': 35.0,\n",
       "   'angleLimit': [{'min': -30.0, 'max': 30.0}],\n",
       "   'referenceRotation': {'z': 90.0}},\n",
       "  {'name': 'Aux 1_$ Body 4_1',\n",
       "   'stiffness': 5000.0,\n",
       "   'parent': 'Aux 1_1',\n",
       "   'child': '$ Body 4_1',\n",
       "   'parentOffset': {'x': 0.14142136},\n",
       "   'childOffset': {'x': -0.2828427},\n",
       "   'rotation': {'z': 90.0},\n",
       "   'angularDamping': 35.0,\n",
       "   'angleLimit': [{'min': 30.0, 'max': 70.0}]},\n",
       "  {'name': 'torso_Aux 1_2',\n",
       "   'stiffness': 5000.0,\n",
       "   'parent': 'torso',\n",
       "   'child': 'Aux 1_2',\n",
       "   'parentOffset': {'x': -0.30142137, 'y': 3.691347e-17},\n",
       "   'childOffset': {},\n",
       "   'rotation': {'y': -90.0},\n",
       "   'angularDamping': 35.0,\n",
       "   'angleLimit': [{'min': -30.0, 'max': 30.0}],\n",
       "   'referenceRotation': {'z': 180.0}},\n",
       "  {'name': 'Aux 1_$ Body 4_2',\n",
       "   'stiffness': 5000.0,\n",
       "   'parent': 'Aux 1_2',\n",
       "   'child': '$ Body 4_2',\n",
       "   'parentOffset': {'x': 0.14142136},\n",
       "   'childOffset': {'x': -0.2828427},\n",
       "   'rotation': {'z': 90.0},\n",
       "   'angularDamping': 35.0,\n",
       "   'angleLimit': [{'min': 30.0, 'max': 70.0}]},\n",
       "  {'name': 'torso_Aux 1_3',\n",
       "   'stiffness': 5000.0,\n",
       "   'parent': 'torso',\n",
       "   'child': 'Aux 1_3',\n",
       "   'parentOffset': {'x': -5.5370206e-17, 'y': -0.30142137},\n",
       "   'childOffset': {},\n",
       "   'rotation': {'y': -90.0},\n",
       "   'angularDamping': 35.0,\n",
       "   'angleLimit': [{'min': -30.0, 'max': 30.0}],\n",
       "   'referenceRotation': {'z': 270.0}},\n",
       "  {'name': 'Aux 1_$ Body 4_3',\n",
       "   'stiffness': 5000.0,\n",
       "   'parent': 'Aux 1_3',\n",
       "   'child': '$ Body 4_3',\n",
       "   'parentOffset': {'x': 0.14142136},\n",
       "   'childOffset': {'x': -0.2828427},\n",
       "   'rotation': {'z': 90.0},\n",
       "   'angularDamping': 35.0,\n",
       "   'angleLimit': [{'min': 30.0, 'max': 70.0}]}],\n",
       " 'actuators': [{'name': 'torso_Aux 1_0',\n",
       "   'joint': 'torso_Aux 1_0',\n",
       "   'strength': 350.0,\n",
       "   'torque': {}},\n",
       "  {'name': 'Aux 1_$ Body 4_0',\n",
       "   'joint': 'Aux 1_$ Body 4_0',\n",
       "   'strength': 350.0,\n",
       "   'torque': {}},\n",
       "  {'name': 'torso_Aux 1_1',\n",
       "   'joint': 'torso_Aux 1_1',\n",
       "   'strength': 350.0,\n",
       "   'torque': {}},\n",
       "  {'name': 'Aux 1_$ Body 4_1',\n",
       "   'joint': 'Aux 1_$ Body 4_1',\n",
       "   'strength': 350.0,\n",
       "   'torque': {}},\n",
       "  {'name': 'torso_Aux 1_2',\n",
       "   'joint': 'torso_Aux 1_2',\n",
       "   'strength': 350.0,\n",
       "   'torque': {}},\n",
       "  {'name': 'Aux 1_$ Body 4_2',\n",
       "   'joint': 'Aux 1_$ Body 4_2',\n",
       "   'strength': 350.0,\n",
       "   'torque': {}},\n",
       "  {'name': 'torso_Aux 1_3',\n",
       "   'joint': 'torso_Aux 1_3',\n",
       "   'strength': 350.0,\n",
       "   'torque': {}},\n",
       "  {'name': 'Aux 1_$ Body 4_3',\n",
       "   'joint': 'Aux 1_$ Body 4_3',\n",
       "   'strength': 350.0,\n",
       "   'torque': {}}]}"
      ]
     },
     "execution_count": 13,
     "metadata": {},
     "output_type": "execute_result"
    }
   ],
   "source": [
    "new_v['json']"
   ]
  },
  {
   "cell_type": "code",
   "execution_count": 14,
   "id": "38b2b165-0b9d-42df-b63c-6a247bb6d7a9",
   "metadata": {
    "tags": []
   },
   "outputs": [],
   "source": [
    "import numpy as np\n",
    "from xvfbwrapper import Xvfb\n",
    "vdisplay = Xvfb()\n",
    "vdisplay.start()\n"
   ]
  },
  {
   "cell_type": "code",
   "execution_count": 15,
   "id": "803e5b5c-a535-4545-abe9-ee68ac884d60",
   "metadata": {
    "tags": []
   },
   "outputs": [
    {
     "data": {
      "text/plain": [
       "['torso_Aux 1_0',\n",
       " 'Aux 1_$ Body 4_0',\n",
       " 'torso_Aux 1_1',\n",
       " 'Aux 1_$ Body 4_1',\n",
       " 'torso_Aux 1_2',\n",
       " 'Aux 1_$ Body 4_2',\n",
       " 'torso_Aux 1_3',\n",
       " 'Aux 1_$ Body 4_3']"
      ]
     },
     "execution_count": 15,
     "metadata": {},
     "output_type": "execute_result"
    }
   ],
   "source": [
    "actuable_nodes = []\n",
    "for i in range(len(new_v['json']['actuators'])):\n",
    "    actuable_nodes.append(new_v['json']['actuators'][i]['name'])\n",
    "actuable_nodes"
   ]
  },
  {
   "cell_type": "code",
   "execution_count": 16,
   "id": "ff373335-d153-4149-afe3-5801ec0e6afb",
   "metadata": {
    "tags": []
   },
   "outputs": [
    {
     "data": {
      "text/plain": [
       "[['torso', 'Aux 1_0'],\n",
       " ['Aux 1_0', '$ Body 4_0'],\n",
       " ['torso', 'Aux 1_1'],\n",
       " ['Aux 1_1', '$ Body 4_1'],\n",
       " ['torso', 'Aux 1_2'],\n",
       " ['Aux 1_2', '$ Body 4_2'],\n",
       " ['torso', 'Aux 1_3'],\n",
       " ['Aux 1_3', '$ Body 4_3']]"
      ]
     },
     "execution_count": 16,
     "metadata": {},
     "output_type": "execute_result"
    }
   ],
   "source": [
    "edges = []\n",
    "for i in range(len(new_v['json']['joints'])):\n",
    "    edges.append([new_v['json']['joints'][i]['parent'], new_v['json']['joints'][i]['child']])\n",
    "edges"
   ]
  },
  {
   "cell_type": "code",
   "execution_count": 17,
   "id": "00ae74de-91dd-4eb5-b006-be1512bd4d7a",
   "metadata": {},
   "outputs": [
    {
     "data": {
      "text/plain": [
       "['torso',\n",
       " 'Aux 1_0',\n",
       " '$ Body 4_0',\n",
       " 'Aux 1_1',\n",
       " '$ Body 4_1',\n",
       " 'Aux 1_2',\n",
       " '$ Body 4_2',\n",
       " 'Aux 1_3',\n",
       " '$ Body 4_3']"
      ]
     },
     "execution_count": 17,
     "metadata": {},
     "output_type": "execute_result"
    }
   ],
   "source": [
    "nodes = []\n",
    "for i in range(len(new_v['json']['bodies'])):\n",
    "    nodes.append(new_v['json']['bodies'][i]['name'])\n",
    "nodes"
   ]
  },
  {
   "cell_type": "code",
   "execution_count": 18,
   "id": "38fe7be7-a12c-4ab9-ac7b-0e5bb3d08889",
   "metadata": {
    "tags": []
   },
   "outputs": [
    {
     "name": "stdout",
     "output_type": "stream",
     "text": [
      "node_dict:  {'torso': [0.0, 0.0, 0.0], 'Aux 1_0': [1.0848101377487183, -0.40592458844184875, 0.0], '$ Body 4_0': [1.0128082036972046, -0.10523267835378647, 0.0], 'Aux 1_1': [0.2534720003604889, 4.9936676025390625, 0.0], '$ Body 4_1': [0.058837033808231354, -0.7612283825874329, 0.0], 'Aux 1_2': [-0.09575316309928894, 0.007336159702390432, 0.0], '$ Body 4_2': [0.20657682418823242, -1.1135088205337524, 0.0], 'Aux 1_3': [0.28368911147117615, 7.203074932098389, 0.0], '$ Body 4_3': [0.14208221435546875, -0.6011561155319214, 0.0]}\n",
      "mask_dict:  {'torso': [True, True, False], 'Aux 1_0': [True, True, False], '$ Body 4_0': [True, True, False], 'Aux 1_1': [True, True, False], '$ Body 4_1': [True, True, False], 'Aux 1_2': [True, True, False], '$ Body 4_2': [True, True, False], 'Aux 1_3': [True, True, False], '$ Body 4_3': [True, True, False]}\n",
      "node_ranges:  {'torso': [0.0, 0.0], 'Aux 1_0': [0.4166666865348816, 0.5833333730697632], '$ Body 4_0': [0.5833333730697632, 0.694444477558136], 'Aux 1_1': [0.4166666865348816, 0.5833333730697632], '$ Body 4_1': [0.5833333730697632, 0.694444477558136], 'Aux 1_2': [0.4166666865348816, 0.5833333730697632], '$ Body 4_2': [0.5833333730697632, 0.694444477558136], 'Aux 1_3': [0.4166666865348816, 0.5833333730697632], '$ Body 4_3': [0.5833333730697632, 0.694444477558136]}\n"
     ]
    }
   ],
   "source": [
    "node_dict = {}\n",
    "mask_dict = {}\n",
    "node_ranges = {}\n",
    "import jax\n",
    "\n",
    "for idx, _node in enumerate(nodes):\n",
    "    start_pt = idx * 20\n",
    "    node_dict[_node] = [jax.device_get(my_obs[start_pt + 16]).item(), jax.device_get(my_obs[start_pt + 19]).item(), 0.0]\n",
    "    mask_dict[_node] = [True, True, False]\n",
    "    node_ranges[_node] = [jax.device_get(my_obs[start_pt + 17]).item(), jax.device_get(my_obs[start_pt + 18]).item()]\n",
    "print(\"node_dict: \", node_dict)\n",
    "print(\"mask_dict: \", mask_dict)\n",
    "print(\"node_ranges: \", node_ranges)"
   ]
  },
  {
   "cell_type": "code",
   "execution_count": 19,
   "id": "53c385c6-8de8-4576-a99a-773065430baf",
   "metadata": {
    "tags": []
   },
   "outputs": [
    {
     "ename": "NameError",
     "evalue": "name 'actuators' is not defined",
     "output_type": "error",
     "traceback": [
      "\u001b[0;31m---------------------------------------------------------------------------\u001b[0m",
      "\u001b[0;31mNameError\u001b[0m                                 Traceback (most recent call last)",
      "\u001b[0;32m/tmp/ipykernel_1609294/1506688013.py\u001b[0m in \u001b[0;36m<module>\u001b[0;34m\u001b[0m\n\u001b[1;32m      1\u001b[0m \u001b[0mactuator_to_nodes\u001b[0m \u001b[0;34m=\u001b[0m \u001b[0;34m{\u001b[0m\u001b[0;34m}\u001b[0m\u001b[0;34m\u001b[0m\u001b[0;34m\u001b[0m\u001b[0m\n\u001b[0;32m----> 2\u001b[0;31m \u001b[0;32mfor\u001b[0m \u001b[0midx\u001b[0m\u001b[0;34m,\u001b[0m \u001b[0m_actuator\u001b[0m \u001b[0;32min\u001b[0m \u001b[0menumerate\u001b[0m\u001b[0;34m(\u001b[0m\u001b[0mactuators\u001b[0m\u001b[0;34m)\u001b[0m\u001b[0;34m:\u001b[0m\u001b[0;34m\u001b[0m\u001b[0;34m\u001b[0m\u001b[0m\n\u001b[0m\u001b[1;32m      3\u001b[0m     \u001b[0mactuator_to_nodes\u001b[0m\u001b[0;34m[\u001b[0m\u001b[0m_actuator\u001b[0m\u001b[0;34m]\u001b[0m \u001b[0;34m=\u001b[0m \u001b[0;34m[\u001b[0m\u001b[0mnew_v\u001b[0m\u001b[0;34m[\u001b[0m\u001b[0;34m'json'\u001b[0m\u001b[0;34m]\u001b[0m\u001b[0;34m[\u001b[0m\u001b[0;34m'joints'\u001b[0m\u001b[0;34m]\u001b[0m\u001b[0;34m[\u001b[0m\u001b[0midx\u001b[0m\u001b[0;34m]\u001b[0m\u001b[0;34m[\u001b[0m\u001b[0;34m'parent'\u001b[0m\u001b[0;34m]\u001b[0m\u001b[0;34m,\u001b[0m \u001b[0mnew_v\u001b[0m\u001b[0;34m[\u001b[0m\u001b[0;34m'json'\u001b[0m\u001b[0;34m]\u001b[0m\u001b[0;34m[\u001b[0m\u001b[0;34m'joints'\u001b[0m\u001b[0;34m]\u001b[0m\u001b[0;34m[\u001b[0m\u001b[0midx\u001b[0m\u001b[0;34m]\u001b[0m\u001b[0;34m[\u001b[0m\u001b[0;34m'child'\u001b[0m\u001b[0;34m]\u001b[0m\u001b[0;34m]\u001b[0m\u001b[0;34m\u001b[0m\u001b[0;34m\u001b[0m\u001b[0m\n\u001b[1;32m      4\u001b[0m \u001b[0mactuator_to_nodes\u001b[0m\u001b[0;34m\u001b[0m\u001b[0;34m\u001b[0m\u001b[0m\n",
      "\u001b[0;31mNameError\u001b[0m: name 'actuators' is not defined"
     ]
    }
   ],
   "source": [
    "actuator_to_nodes = {}\n",
    "for idx, _actuator in enumerate(actuators):\n",
    "    actuator_to_nodes[_actuator] = [new_v['json']['joints'][idx]['parent'], new_v['json']['joints'][idx]['child']]\n",
    "actuator_to_nodes"
   ]
  },
  {
   "cell_type": "code",
   "execution_count": null,
   "id": "15f45482-f703-4027-b658-691bfca85a46",
   "metadata": {
    "tags": []
   },
   "outputs": [],
   "source": [
    "converted_qp[23]"
   ]
  },
  {
   "cell_type": "code",
   "execution_count": null,
   "id": "4632f6d0-2108-4109-baec-b86a8f8a146b",
   "metadata": {
    "tags": []
   },
   "outputs": [],
   "source": [
    "node_to_actuators = {}\n",
    "for key in actuator_to_nodes:\n",
    "    for _node in actuator_to_nodes[key]:\n",
    "        if _node in node_to_actuators:\n",
    "            node_to_actuators[_node].append(key)\n",
    "        else:\n",
    "            node_to_actuators[_node] = [key]\n",
    "node_to_actuators"
   ]
  },
  {
   "cell_type": "code",
   "execution_count": null,
   "id": "a38aa2b7-5aaf-4a44-94f8-65b03f2ca721",
   "metadata": {
    "tags": []
   },
   "outputs": [],
   "source": [
    "actuable_nodes = []\n",
    "for i in range(len(new_v['json']['actuators'])):\n",
    "    actuable_nodes.append(new_v['json']['actuators'][i]['name'])\n",
    "actuable_nodes"
   ]
  },
  {
   "cell_type": "code",
   "execution_count": null,
   "id": "57441403-ca86-4192-b3f9-20d04dae023f",
   "metadata": {
    "tags": []
   },
   "outputs": [],
   "source": [
    "env.sys.joints[0].body_p.idx"
   ]
  },
  {
   "cell_type": "code",
   "execution_count": null,
   "id": "3bb62ba9-6616-46af-b80c-1cd45a1163a0",
   "metadata": {
    "tags": []
   },
   "outputs": [],
   "source": [
    "env.sys.joints[0].angle_vel(converted_qp[13])[1]"
   ]
  },
  {
   "cell_type": "code",
   "execution_count": null,
   "id": "e5e430c0-c8f8-4195-b442-464e7d68cb88",
   "metadata": {
    "tags": []
   },
   "outputs": [],
   "source": [
    "import networkx as nx\n",
    "import matplotlib.pyplot as plt\n",
    "\n",
    "def vis_graph(nodes, edges, actuable_nodes, labels=None):\n",
    "    # create directed graph object\n",
    "    DG = nx.DiGraph()\n",
    "    DG.add_nodes_from(nodes)\n",
    "    DG.add_edges_from(edges)\n",
    "    \n",
    "    # if self.morphology == 'dog':\n",
    "    #     figsize = (60, 40)\n",
    "    #     rotate = 90\n",
    "    # else:\n",
    "    #     figsize = (18, 12)\n",
    "    #     rotate = 0\n",
    "    figsize = (18, 12)\n",
    "    rotate = 0\n",
    "    # set node colors\n",
    "    color_map = []\n",
    "    for node in nodes:\n",
    "        if node in actuable_nodes:\n",
    "            color_map.append('green')\n",
    "        else:\n",
    "            color_map.append('red')\n",
    "\n",
    "    # layout graph\n",
    "    plt.figure(figsize=figsize)\n",
    "    pos = nx.nx_agraph.graphviz_layout(DG, prog=\"dot\")\n",
    "\n",
    "    # Apply rotation to layout positions\n",
    "    if rotate != 0:\n",
    "        rotate = rotate / 180 * np.pi\n",
    "        pos = {node: (x * np.cos(rotate) - y * np.sin(rotate), x * np.sin(rotate) + y * np.cos(rotate)) for node, (x, y) in pos.items()}\n",
    "\n",
    "    # draw graph\n",
    "    nx.draw_networkx(DG, pos, node_color=color_map, labels=labels,\n",
    "                     node_size=6000, arrowsize=20, font_weight='bold', font_size=10)\n",
    "    plt.show()\n",
    "\n",
    "vis_graph(nodes, edges, actuable_nodes)"
   ]
  },
  {
   "cell_type": "code",
   "execution_count": null,
   "id": "de5a5d80-2da0-4156-b176-04dbf1fe0891",
   "metadata": {
    "tags": []
   },
   "outputs": [],
   "source": [
    "def pretty_print_dict(x, prefix=''):\n",
    "    for k, v in x.items():\n",
    "        print(f'{prefix}{k:20s}: {v}')\n",
    "\n",
    "\n",
    "def test_env(domain, task):\n",
    "    print()\n",
    "    parser = XmlGraphParser(domain, task)\n",
    "    parser.env.reset()\n",
    "    parser.env.step(1)\n",
    "    obs = parser.env.task.get_observation(parser.env.physics)\n",
    "    node_dict, mask_dict = parser.parse_observation(obs)\n",
    "    pretty_print_dict(node_dict)\n",
    "    labels = {node: node + '\\n' + \n",
    "                    (parser.node_to_actuators[node] if node in parser.actuable_nodes else '-') + '\\n' +\n",
    "                    (', '.join(['T' if m else 'F' for m in mask_dict[node]]) if node in mask_dict else \"\") + '\\n' +\n",
    "                    str(nrange)\n",
    "              for node, nrange in zip(parser.nodes, parser.node_ranges)}\n",
    "    parser.vis_graph(labels)\n"
   ]
  },
  {
   "cell_type": "code",
   "execution_count": null,
   "id": "2daf35a4-e18d-465e-a7b3-36f109b96136",
   "metadata": {},
   "outputs": [],
   "source": []
  }
 ],
 "metadata": {
  "kernelspec": {
   "display_name": "Python 3 (ipykernel)",
   "language": "python",
   "name": "python3"
  },
  "language_info": {
   "codemirror_mode": {
    "name": "ipython",
    "version": 3
   },
   "file_extension": ".py",
   "mimetype": "text/x-python",
   "name": "python",
   "nbconvert_exporter": "python",
   "pygments_lexer": "ipython3",
   "version": "3.7.11"
  }
 },
 "nbformat": 4,
 "nbformat_minor": 5
}
